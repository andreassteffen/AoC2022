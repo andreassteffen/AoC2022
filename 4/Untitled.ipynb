{
 "cells": [
  {
   "cell_type": "code",
   "execution_count": 1,
   "id": "f4fe15d3-3963-4e18-94a8-ec3cc894a1c0",
   "metadata": {},
   "outputs": [],
   "source": [
    "import pandas as pd"
   ]
  },
  {
   "cell_type": "code",
   "execution_count": 39,
   "id": "37d32dcb-cc50-443e-98a9-de6e56ac542d",
   "metadata": {},
   "outputs": [],
   "source": [
    "fn = 'input.txt'"
   ]
  },
  {
   "cell_type": "code",
   "execution_count": 40,
   "id": "c950ed54-4fa7-413e-91fb-903af66ff472",
   "metadata": {},
   "outputs": [],
   "source": [
    "df = pd.read_csv(fn, header = None)"
   ]
  },
  {
   "cell_type": "code",
   "execution_count": 41,
   "id": "0aa9fafa-d274-4f65-80fb-70d715c7a162",
   "metadata": {},
   "outputs": [],
   "source": [
    "def gen_range(inp):\n",
    "    tmp = list(map(int,inp.split('-')))\n",
    "    return set(range(tmp[0],tmp[1]+1))"
   ]
  },
  {
   "cell_type": "code",
   "execution_count": 42,
   "id": "46f0eb85-5fba-413e-a86c-c2150bbbf3b9",
   "metadata": {},
   "outputs": [],
   "source": [
    "df_range = df.applymap(gen_range)"
   ]
  },
  {
   "cell_type": "code",
   "execution_count": 43,
   "id": "aa577f64-90e5-4371-9a60-e93ad82cf4d2",
   "metadata": {},
   "outputs": [
    {
     "data": {
      "text/plain": [
       "466"
      ]
     },
     "execution_count": 43,
     "metadata": {},
     "output_type": "execute_result"
    }
   ],
   "source": [
    "df_range.apply(lambda x: len(x[0].difference(x[1])) == 0 or len(x[1].difference(x[0]))==0, axis = 1).sum()"
   ]
  },
  {
   "cell_type": "code",
   "execution_count": 47,
   "id": "f7fcbd00-f6b4-4711-afad-73ef9454b5cb",
   "metadata": {},
   "outputs": [
    {
     "data": {
      "text/plain": [
       "865"
      ]
     },
     "execution_count": 47,
     "metadata": {},
     "output_type": "execute_result"
    }
   ],
   "source": [
    "df_range.apply(lambda x: len(x[0].intersection(x[1]))>0, axis = 1).sum()"
   ]
  },
  {
   "cell_type": "code",
   "execution_count": null,
   "id": "335f2ea4-57d5-410c-8f9c-60467aa4410e",
   "metadata": {},
   "outputs": [],
   "source": []
  }
 ],
 "metadata": {
  "kernelspec": {
   "display_name": "Python 3 (ipykernel)",
   "language": "python",
   "name": "python3"
  },
  "language_info": {
   "codemirror_mode": {
    "name": "ipython",
    "version": 3
   },
   "file_extension": ".py",
   "mimetype": "text/x-python",
   "name": "python",
   "nbconvert_exporter": "python",
   "pygments_lexer": "ipython3",
   "version": "3.9.7"
  }
 },
 "nbformat": 4,
 "nbformat_minor": 5
}
