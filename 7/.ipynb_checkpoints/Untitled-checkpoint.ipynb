{
 "cells": [
  {
   "cell_type": "code",
   "execution_count": 51,
   "id": "9f05da7c-4666-4a2f-8386-0e994dc84ecf",
   "metadata": {},
   "outputs": [],
   "source": [
    "from collections import defaultdict\n",
    "from dataclasses import dataclass"
   ]
  },
  {
   "cell_type": "code",
   "execution_count": 135,
   "id": "cbe61d2a-4603-4a00-b83b-c0f0a6540baa",
   "metadata": {},
   "outputs": [],
   "source": [
    "lines = open('input.txt').read().split('\\n')"
   ]
  },
  {
   "cell_type": "code",
   "execution_count": 136,
   "id": "7aa68a46-6e5b-48d3-ab08-37ba9244de68",
   "metadata": {},
   "outputs": [],
   "source": [
    "@dataclass\n",
    "class Tree:\n",
    "    nodes: list['Node']\n",
    "    \n",
    "@dataclass\n",
    "class Node:\n",
    "    size: int\n",
    "    name: str\n",
    "    children: list['Node']\n",
    "    parent: 'Node'"
   ]
  },
  {
   "cell_type": "code",
   "execution_count": 137,
   "id": "8cca201d-b4bd-4576-a340-c59c96612cf9",
   "metadata": {},
   "outputs": [],
   "source": [
    "tree = Tree([])\n",
    "root = Node(0,'/', [], None)\n",
    "tree.nodes.append(root)\n",
    "curnode = root\n",
    "for row in lines[1:]:\n",
    "    if row == '$ cd ..':\n",
    "        curnode = curnode.parent\n",
    "        continue\n",
    "    if row.startswith('$ cd'):\n",
    "        newnode = Node(0,row.split(' ')[-1],[],curnode)\n",
    "        tree.nodes.append(newnode)\n",
    "        curnode.children.append(newnode)\n",
    "        curnode = newnode\n",
    "        continue\n",
    "    row_sp = row.split(' ')\n",
    "    if row_sp[0].isdigit():\n",
    "        newnode = Node(int(row_sp[0]),row_sp[1], None, curnode)\n",
    "        curnode.children.append(newnode)\n",
    "        tree.nodes.append(newnode)\n",
    "        traverse = curnode\n",
    "\n",
    "        while traverse:\n",
    "            traverse.size += newnode.size\n",
    "            traverse=traverse.parent\n"
   ]
  },
  {
   "cell_type": "code",
   "execution_count": 146,
   "id": "564906fb-c886-420b-92cd-03b352e53633",
   "metadata": {},
   "outputs": [
    {
     "data": {
      "text/plain": [
       "1490523"
      ]
     },
     "execution_count": 146,
     "metadata": {},
     "output_type": "execute_result"
    }
   ],
   "source": [
    "# 1\n",
    "sum([n.size for n in tree.nodes if n.size<=100000 and (n.children!=None) and len(n.children)>0])"
   ]
  },
  {
   "cell_type": "code",
   "execution_count": 148,
   "id": "c9a4187a-908e-48a6-a8b2-ce394f93c6ac",
   "metadata": {},
   "outputs": [],
   "source": [
    "freespace = 70000000 - root.size"
   ]
  },
  {
   "cell_type": "code",
   "execution_count": 149,
   "id": "df9b7ffc-62aa-490b-9b01-95a8dd61e099",
   "metadata": {},
   "outputs": [],
   "source": [
    "atleast = 30000000 - cutoff"
   ]
  },
  {
   "cell_type": "code",
   "execution_count": 151,
   "id": "550df966-b4e6-4911-82fc-aa907bb6b5c8",
   "metadata": {},
   "outputs": [
    {
     "data": {
      "text/plain": [
       "12390492"
      ]
     },
     "execution_count": 151,
     "metadata": {},
     "output_type": "execute_result"
    }
   ],
   "source": [
    "# 2\n",
    "sorted([n.size for n in tree.nodes if n.size>=atleast and (n.children!=None) and len(n.children)>0])[0]"
   ]
  }
 ],
 "metadata": {
  "kernelspec": {
   "display_name": "Python 3 (ipykernel)",
   "language": "python",
   "name": "python3"
  },
  "language_info": {
   "codemirror_mode": {
    "name": "ipython",
    "version": 3
   },
   "file_extension": ".py",
   "mimetype": "text/x-python",
   "name": "python",
   "nbconvert_exporter": "python",
   "pygments_lexer": "ipython3",
   "version": "3.9.7"
  }
 },
 "nbformat": 4,
 "nbformat_minor": 5
}
