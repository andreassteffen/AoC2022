{
 "cells": [
  {
   "cell_type": "code",
   "execution_count": 1,
   "id": "7a7343dd-3b58-4e8c-9aae-f00cf4315b12",
   "metadata": {},
   "outputs": [],
   "source": [
    "from textwrap import wrap\n",
    "import pandas as pd\n",
    "import re"
   ]
  },
  {
   "cell_type": "code",
   "execution_count": null,
   "id": "a4521b29-3224-4b29-a038-e0eafe11043c",
   "metadata": {},
   "outputs": [],
   "source": [
    "stacks = '''\n",
    "    [D]    \n",
    "[N] [C]    \n",
    "[Z] [M] [P]'''.replace(' ','-').split('\\n')\n",
    "stacks = list(filter(None, stacks))"
   ]
  },
  {
   "cell_type": "code",
   "execution_count": 173,
   "id": "b1ed4027-723b-493b-a3f6-f8b3e00fc047",
   "metadata": {},
   "outputs": [],
   "source": [
    "stacks = '''\n",
    "                [B]     [L]     [S]\n",
    "        [Q] [J] [C]     [W]     [F]\n",
    "    [F] [T] [B] [D]     [P]     [P]\n",
    "    [S] [J] [Z] [T]     [B] [C] [H]\n",
    "    [L] [H] [H] [Z] [G] [Z] [G] [R]\n",
    "[R] [H] [D] [R] [F] [C] [V] [Q] [T]\n",
    "[C] [J] [M] [G] [P] [H] [N] [J] [D]\n",
    "[H] [B] [R] [S] [R] [T] [S] [R] [L]'''.replace(' ','-').split('\\n')\n",
    "stacks = list(filter(None, stacks))"
   ]
  },
  {
   "cell_type": "code",
   "execution_count": null,
   "id": "2adfbbf4-d2c1-4c64-a3de-006941929a04",
   "metadata": {},
   "outputs": [],
   "source": [
    "df = pd.DataFrame([wrap(_,4) for _ in stacks][::-1], columns = list(range(1,10,1)))"
   ]
  },
  {
   "cell_type": "code",
   "execution_count": 175,
   "id": "b0399186-8c1f-413c-8d14-6021c3b92a0d",
   "metadata": {},
   "outputs": [],
   "source": [
    "df_clean = df.applymap(lambda x: x.replace('[','').replace(']','').replace('-',''))"
   ]
  },
  {
   "cell_type": "code",
   "execution_count": 177,
   "id": "1d8d8da5-f7f3-4c4f-93f2-492d20c4f9b7",
   "metadata": {},
   "outputs": [],
   "source": [
    "store = {}\n",
    "for i,vals in enumerate(df_clean.values.T):\n",
    "    store[i+1] = list(filter(None, vals))"
   ]
  },
  {
   "cell_type": "code",
   "execution_count": 179,
   "id": "fc82cbcf-cb59-44fd-8e77-448d2b17f58b",
   "metadata": {},
   "outputs": [],
   "source": [
    "# instructions\n",
    "instructions = pd.read_table('input.txt', sep = ' ', header = None)[[1,3,5]]\n",
    "instructions.columns = ['move_nr','from', 'to']"
   ]
  },
  {
   "cell_type": "code",
   "execution_count": 180,
   "id": "403db7bd-f21a-46b4-b5cc-192b8931d30c",
   "metadata": {},
   "outputs": [
    {
     "data": {
      "text/html": [
       "<div>\n",
       "<style scoped>\n",
       "    .dataframe tbody tr th:only-of-type {\n",
       "        vertical-align: middle;\n",
       "    }\n",
       "\n",
       "    .dataframe tbody tr th {\n",
       "        vertical-align: top;\n",
       "    }\n",
       "\n",
       "    .dataframe thead th {\n",
       "        text-align: right;\n",
       "    }\n",
       "</style>\n",
       "<table border=\"1\" class=\"dataframe\">\n",
       "  <thead>\n",
       "    <tr style=\"text-align: right;\">\n",
       "      <th></th>\n",
       "      <th>move_nr</th>\n",
       "      <th>from</th>\n",
       "      <th>to</th>\n",
       "    </tr>\n",
       "  </thead>\n",
       "  <tbody>\n",
       "    <tr>\n",
       "      <th>0</th>\n",
       "      <td>8</td>\n",
       "      <td>7</td>\n",
       "      <td>1</td>\n",
       "    </tr>\n",
       "    <tr>\n",
       "      <th>1</th>\n",
       "      <td>9</td>\n",
       "      <td>1</td>\n",
       "      <td>9</td>\n",
       "    </tr>\n",
       "    <tr>\n",
       "      <th>2</th>\n",
       "      <td>4</td>\n",
       "      <td>5</td>\n",
       "      <td>4</td>\n",
       "    </tr>\n",
       "    <tr>\n",
       "      <th>3</th>\n",
       "      <td>4</td>\n",
       "      <td>6</td>\n",
       "      <td>1</td>\n",
       "    </tr>\n",
       "    <tr>\n",
       "      <th>4</th>\n",
       "      <td>3</td>\n",
       "      <td>8</td>\n",
       "      <td>5</td>\n",
       "    </tr>\n",
       "    <tr>\n",
       "      <th>...</th>\n",
       "      <td>...</td>\n",
       "      <td>...</td>\n",
       "      <td>...</td>\n",
       "    </tr>\n",
       "    <tr>\n",
       "      <th>498</th>\n",
       "      <td>7</td>\n",
       "      <td>6</td>\n",
       "      <td>3</td>\n",
       "    </tr>\n",
       "    <tr>\n",
       "      <th>499</th>\n",
       "      <td>1</td>\n",
       "      <td>4</td>\n",
       "      <td>1</td>\n",
       "    </tr>\n",
       "    <tr>\n",
       "      <th>500</th>\n",
       "      <td>7</td>\n",
       "      <td>3</td>\n",
       "      <td>2</td>\n",
       "    </tr>\n",
       "    <tr>\n",
       "      <th>501</th>\n",
       "      <td>3</td>\n",
       "      <td>3</td>\n",
       "      <td>5</td>\n",
       "    </tr>\n",
       "    <tr>\n",
       "      <th>502</th>\n",
       "      <td>2</td>\n",
       "      <td>4</td>\n",
       "      <td>7</td>\n",
       "    </tr>\n",
       "  </tbody>\n",
       "</table>\n",
       "<p>503 rows × 3 columns</p>\n",
       "</div>"
      ],
      "text/plain": [
       "     move_nr  from  to\n",
       "0          8     7   1\n",
       "1          9     1   9\n",
       "2          4     5   4\n",
       "3          4     6   1\n",
       "4          3     8   5\n",
       "..       ...   ...  ..\n",
       "498        7     6   3\n",
       "499        1     4   1\n",
       "500        7     3   2\n",
       "501        3     3   5\n",
       "502        2     4   7\n",
       "\n",
       "[503 rows x 3 columns]"
      ]
     },
     "execution_count": 180,
     "metadata": {},
     "output_type": "execute_result"
    }
   ],
   "source": [
    "instructions"
   ]
  },
  {
   "cell_type": "code",
   "execution_count": 181,
   "id": "85881a4e-4422-4df8-a4fd-cfd802e8482c",
   "metadata": {},
   "outputs": [],
   "source": [
    "# CrateMover 9000\n",
    "store = {}\n",
    "for i,vals in enumerate(df_clean.values.T):\n",
    "    store[i+1] = list(filter(None, vals))\n",
    "    \n",
    "for _,row in instructions.T.iteritems():\n",
    "    for i in range(0,row['move_nr']):\n",
    "        element = store[row['from']].pop()\n",
    "        store[row['to']].extend(element)\n"
   ]
  },
  {
   "cell_type": "code",
   "execution_count": 182,
   "id": "60c22bec-0cff-49eb-9847-e6aa3ba8f9fc",
   "metadata": {},
   "outputs": [
    {
     "name": "stdout",
     "output_type": "stream",
     "text": [
      "SHQWSRBDL\n"
     ]
    }
   ],
   "source": [
    "collect = []\n",
    "for key in sorted(store.keys()):\n",
    "    collect.append(store[key][-1])\n",
    "print(''.join(collect))"
   ]
  },
  {
   "cell_type": "code",
   "execution_count": 183,
   "id": "65817917-b238-42c0-9409-b016dc592df4",
   "metadata": {},
   "outputs": [],
   "source": [
    "# CrateMover 9001"
   ]
  },
  {
   "cell_type": "code",
   "execution_count": 191,
   "id": "1e216d0b-a51d-4954-8ec7-4794ba3c6953",
   "metadata": {},
   "outputs": [],
   "source": [
    "store = {}\n",
    "for i,vals in enumerate(df_clean.values.T):\n",
    "    store[i+1] = list(filter(None, vals))\n",
    "    \n",
    "for _,row in instructions.T.iteritems():\n",
    "    store[row['to']].extend(store[row['from']][-row['move_nr']:])\n",
    "    store[row['from']] = store[row['from']][:-row['move_nr']]"
   ]
  },
  {
   "cell_type": "code",
   "execution_count": 192,
   "id": "ed707c0a-be6f-4b02-958a-1497970bcc1e",
   "metadata": {},
   "outputs": [
    {
     "name": "stdout",
     "output_type": "stream",
     "text": [
      "CDTQZHBRS\n"
     ]
    }
   ],
   "source": [
    "collect = []\n",
    "for key in sorted(store.keys()):\n",
    "    try:\n",
    "        collect.append(store[key][-1])\n",
    "    except:\n",
    "        collect.append(' ')\n",
    "print(''.join(collect))"
   ]
  },
  {
   "cell_type": "code",
   "execution_count": null,
   "id": "b1388e5a-274a-40c1-b8ca-ac5653c1a693",
   "metadata": {},
   "outputs": [],
   "source": []
  }
 ],
 "metadata": {
  "kernelspec": {
   "display_name": "Python 3 (ipykernel)",
   "language": "python",
   "name": "python3"
  },
  "language_info": {
   "codemirror_mode": {
    "name": "ipython",
    "version": 3
   },
   "file_extension": ".py",
   "mimetype": "text/x-python",
   "name": "python",
   "nbconvert_exporter": "python",
   "pygments_lexer": "ipython3",
   "version": "3.9.7"
  }
 },
 "nbformat": 4,
 "nbformat_minor": 5
}
