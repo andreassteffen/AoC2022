{
 "cells": [
  {
   "cell_type": "code",
   "execution_count": 27,
   "id": "7a7343dd-3b58-4e8c-9aae-f00cf4315b12",
   "metadata": {},
   "outputs": [],
   "source": [
    "from textwrap import wrap\n",
    "import pandas as pd\n",
    "import re"
   ]
  },
  {
   "cell_type": "code",
   "execution_count": 13,
   "id": "b1ed4027-723b-493b-a3f6-f8b3e00fc047",
   "metadata": {},
   "outputs": [],
   "source": [
    "stacks = '''\n",
    "                [B]     [L]     [S]\n",
    "        [Q] [J] [C]     [W]     [F]\n",
    "    [F] [T] [B] [D]     [P]     [P]\n",
    "    [S] [J] [Z] [T]     [B] [C] [H]\n",
    "    [L] [H] [H] [Z] [G] [Z] [G] [R]\n",
    "[R] [H] [D] [R] [F] [C] [V] [Q] [T]\n",
    "[C] [J] [M] [G] [P] [H] [N] [J] [D]\n",
    "[H] [B] [R] [S] [R] [T] [S] [R] [L]'''.replace(' ','-').split('\\n')\n",
    "stacks = list(filter(None, stacks))"
   ]
  },
  {
   "cell_type": "code",
   "execution_count": 52,
   "id": "2dc4c323-d408-4d49-8284-f5c42700f082",
   "metadata": {},
   "outputs": [
    {
     "data": {
      "text/plain": [
       "['----------------[B]-----[L]-----[S]',\n",
       " '--------[Q]-[J]-[C]-----[W]-----[F]',\n",
       " '----[F]-[T]-[B]-[D]-----[P]-----[P]',\n",
       " '----[S]-[J]-[Z]-[T]-----[B]-[C]-[H]',\n",
       " '----[L]-[H]-[H]-[Z]-[G]-[Z]-[G]-[R]',\n",
       " '[R]-[H]-[D]-[R]-[F]-[C]-[V]-[Q]-[T]',\n",
       " '[C]-[J]-[M]-[G]-[P]-[H]-[N]-[J]-[D]',\n",
       " '[H]-[B]-[R]-[S]-[R]-[T]-[S]-[R]-[L]']"
      ]
     },
     "execution_count": 52,
     "metadata": {},
     "output_type": "execute_result"
    }
   ],
   "source": [
    "stacks"
   ]
  },
  {
   "cell_type": "code",
   "execution_count": 56,
   "id": "2adfbbf4-d2c1-4c64-a3de-006941929a04",
   "metadata": {},
   "outputs": [],
   "source": [
    "df = pd.DataFrame([wrap(_,4) for _ in stacks][::-1], columns = list(range(1,10,1)))"
   ]
  },
  {
   "cell_type": "code",
   "execution_count": 58,
   "id": "b0399186-8c1f-413c-8d14-6021c3b92a0d",
   "metadata": {},
   "outputs": [],
   "source": [
    "df_clean = df.applymap(lambda x: x.replace('[','').replace(']','').replace('-',''))"
   ]
  },
  {
   "cell_type": "code",
   "execution_count": 74,
   "id": "1d8d8da5-f7f3-4c4f-93f2-492d20c4f9b7",
   "metadata": {},
   "outputs": [],
   "source": [
    "store = {}\n",
    "for i,vals in enumerate(df_clean.values.T):\n",
    "    store[i+1] = list(filter(None, vals))"
   ]
  },
  {
   "cell_type": "code",
   "execution_count": 75,
   "id": "8f6b8369-6d0a-49f2-88de-2394ef1754c7",
   "metadata": {},
   "outputs": [
    {
     "data": {
      "text/plain": [
       "{1: ['H', 'C', 'R'],\n",
       " 2: ['B', 'J', 'H', 'L', 'S', 'F'],\n",
       " 3: ['R', 'M', 'D', 'H', 'J', 'T', 'Q'],\n",
       " 4: ['S', 'G', 'R', 'H', 'Z', 'B', 'J'],\n",
       " 5: ['R', 'P', 'F', 'Z', 'T', 'D', 'C', 'B'],\n",
       " 6: ['T', 'H', 'C', 'G'],\n",
       " 7: ['S', 'N', 'V', 'Z', 'B', 'P', 'W', 'L'],\n",
       " 8: ['R', 'J', 'Q', 'G', 'C'],\n",
       " 9: ['L', 'D', 'T', 'R', 'H', 'P', 'F', 'S']}"
      ]
     },
     "execution_count": 75,
     "metadata": {},
     "output_type": "execute_result"
    }
   ],
   "source": [
    "store"
   ]
  },
  {
   "cell_type": "code",
   "execution_count": null,
   "id": "fc82cbcf-cb59-44fd-8e77-448d2b17f58b",
   "metadata": {},
   "outputs": [],
   "source": []
  }
 ],
 "metadata": {
  "kernelspec": {
   "display_name": "Python 3 (ipykernel)",
   "language": "python",
   "name": "python3"
  },
  "language_info": {
   "codemirror_mode": {
    "name": "ipython",
    "version": 3
   },
   "file_extension": ".py",
   "mimetype": "text/x-python",
   "name": "python",
   "nbconvert_exporter": "python",
   "pygments_lexer": "ipython3",
   "version": "3.9.7"
  }
 },
 "nbformat": 4,
 "nbformat_minor": 5
}
