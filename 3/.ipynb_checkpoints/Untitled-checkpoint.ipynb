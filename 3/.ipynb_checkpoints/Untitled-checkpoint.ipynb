{
 "cells": [
  {
   "cell_type": "code",
   "execution_count": 3,
   "id": "e43fcf97-11cb-4426-a98c-5e6ccb5a0085",
   "metadata": {},
   "outputs": [],
   "source": [
    "import pandas as pd\n",
    "import string"
   ]
  },
  {
   "cell_type": "code",
   "execution_count": 14,
   "id": "e6299203-ecf5-4662-bb31-d28c1145d45c",
   "metadata": {},
   "outputs": [],
   "source": [
    "prio = dict(list(zip(string.ascii_lowercase,range(1,len(string.ascii_lowercase)+1)))\n",
    "     +list(zip(string.ascii_uppercase,range(len(string.ascii_uppercase)+1,2*len(string.ascii_uppercase)+1))) )"
   ]
  },
  {
   "cell_type": "code",
   "execution_count": 40,
   "id": "e170af74-f6fd-43a0-b2f8-461cd746fa68",
   "metadata": {},
   "outputs": [],
   "source": [
    "file = 'input.txt'"
   ]
  },
  {
   "cell_type": "code",
   "execution_count": 41,
   "id": "da79bdbd-2d10-49f5-8203-e0efdda8bd26",
   "metadata": {},
   "outputs": [],
   "source": [
    "df = pd.read_table(file, header = None)"
   ]
  },
  {
   "cell_type": "code",
   "execution_count": 42,
   "id": "649b45c9-1867-4cc1-9bf4-f6f8a58ac078",
   "metadata": {},
   "outputs": [],
   "source": [
    "df_split = df.apply(lambda x: pd.Series({'first':x[0][0:int(len(x[0])/2)], 'second':x[0][int(len(x[0])/2):] }), axis = 1)"
   ]
  },
  {
   "cell_type": "code",
   "execution_count": 43,
   "id": "30a8bdb3-2e42-4a1c-b7e7-040123c98107",
   "metadata": {},
   "outputs": [],
   "source": [
    "df_prios = df_split.applymap(lambda x: set([prio.get(_) for _ in list(x)]))"
   ]
  },
  {
   "cell_type": "code",
   "execution_count": 44,
   "id": "77e7cf5b-dd9a-4bfa-8e76-b05c5c0a81a2",
   "metadata": {},
   "outputs": [
    {
     "data": {
      "text/plain": [
       "7824"
      ]
     },
     "execution_count": 44,
     "metadata": {},
     "output_type": "execute_result"
    }
   ],
   "source": [
    "df_prios.apply(lambda x: x['first'].intersection(x['second']).pop(), axis = 1).sum()"
   ]
  },
  {
   "cell_type": "code",
   "execution_count": 52,
   "id": "a0e79d7c-e864-408e-a4c5-a5f5fe31fbe9",
   "metadata": {},
   "outputs": [],
   "source": [
    "df_prios_all = df.applymap(lambda x: set([prio.get(_) for _ in list(x)]))"
   ]
  },
  {
   "cell_type": "code",
   "execution_count": 74,
   "id": "e0a0ed43-85df-4e67-be35-3b1e78d9bb59",
   "metadata": {},
   "outputs": [],
   "source": [
    "df_prios_all['group'] = sorted(3*list(range(0,int(df_prios_all.shape[0]/3))))"
   ]
  },
  {
   "cell_type": "code",
   "execution_count": 89,
   "id": "42b818d3-4449-4aa7-9a82-117064e7b43b",
   "metadata": {},
   "outputs": [
    {
     "data": {
      "text/plain": [
       "2798"
      ]
     },
     "execution_count": 89,
     "metadata": {},
     "output_type": "execute_result"
    }
   ],
   "source": [
    "df_prios_all.groupby('group').apply(lambda x: set.intersection(*x[0].tolist()).pop()).sum()"
   ]
  }
 ],
 "metadata": {
  "kernelspec": {
   "display_name": "Python 3 (ipykernel)",
   "language": "python",
   "name": "python3"
  },
  "language_info": {
   "codemirror_mode": {
    "name": "ipython",
    "version": 3
   },
   "file_extension": ".py",
   "mimetype": "text/x-python",
   "name": "python",
   "nbconvert_exporter": "python",
   "pygments_lexer": "ipython3",
   "version": "3.9.7"
  }
 },
 "nbformat": 4,
 "nbformat_minor": 5
}
