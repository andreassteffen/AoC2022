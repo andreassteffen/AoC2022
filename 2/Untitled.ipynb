{
 "cells": [
  {
   "cell_type": "code",
   "execution_count": 13,
   "id": "58de6a43-fcab-4335-b140-94cb5ab98285",
   "metadata": {},
   "outputs": [],
   "source": [
    "import pandas as pd"
   ]
  },
  {
   "cell_type": "code",
   "execution_count": 123,
   "id": "28ca5511-bf1a-4514-9abd-e127679c8ab3",
   "metadata": {},
   "outputs": [],
   "source": [
    "df = pd.read_table('input.txt', names = ['o','m'], sep = ' ')"
   ]
  },
  {
   "cell_type": "code",
   "execution_count": 124,
   "id": "35777543-5dad-4e8b-a831-3f212b8bc036",
   "metadata": {},
   "outputs": [],
   "source": [
    "translate = dict(zip('ABCXYZ',2*list(range(1,4,1))))"
   ]
  },
  {
   "cell_type": "code",
   "execution_count": 125,
   "id": "5ff70882-ccd8-4e3d-a45e-5c110702599d",
   "metadata": {},
   "outputs": [],
   "source": [
    "df = df.applymap(lambda x: translate.get(x))"
   ]
  },
  {
   "cell_type": "code",
   "execution_count": 126,
   "id": "23047aef-95da-4d6c-b69b-bc88bc6e7cb5",
   "metadata": {},
   "outputs": [],
   "source": [
    "def score(row):\n",
    "    ret = row['m']\n",
    "    res=row['o']-row['m']\n",
    "    if res==0:\n",
    "        ret+= 3\n",
    "    if res < 0:\n",
    "        ret+= 6 if res==-1 else 0\n",
    "    else:\n",
    "        ret += 6 if res==2 else 0\n",
    "    return ret"
   ]
  },
  {
   "cell_type": "code",
   "execution_count": 127,
   "id": "a7bee165-7ebb-4069-8282-252778978a39",
   "metadata": {},
   "outputs": [
    {
     "data": {
      "text/plain": [
       "10624"
      ]
     },
     "execution_count": 127,
     "metadata": {},
     "output_type": "execute_result"
    }
   ],
   "source": [
    "df.apply(score, axis = 1).sum()"
   ]
  },
  {
   "cell_type": "markdown",
   "id": "4b11dba4-abe0-49e7-8f56-f13ce75a33fe",
   "metadata": {},
   "source": [
    "1=loose\n",
    "2=draw\n",
    "3=win"
   ]
  },
  {
   "cell_type": "code",
   "execution_count": 130,
   "id": "ffb52a48-4003-43ea-9bee-bb4e20f60c86",
   "metadata": {},
   "outputs": [],
   "source": [
    "def decider_score(row):\n",
    "    if row['m'] == 3: # win\n",
    "        return ((row['o']%3) +1)+6\n",
    "    if row['m'] == 2: # draw\n",
    "        return row['o'] + 3\n",
    "    check = ((row['o']+2)%3)\n",
    "    return [3,1,2][check]"
   ]
  },
  {
   "cell_type": "code",
   "execution_count": 131,
   "id": "8bbe1715-5751-47e5-b066-a46ba0f4ccf3",
   "metadata": {},
   "outputs": [
    {
     "data": {
      "text/plain": [
       "14060"
      ]
     },
     "execution_count": 131,
     "metadata": {},
     "output_type": "execute_result"
    }
   ],
   "source": [
    "df.apply(decider_score, axis = 1).sum()"
   ]
  }
 ],
 "metadata": {
  "kernelspec": {
   "display_name": "Python 3 (ipykernel)",
   "language": "python",
   "name": "python3"
  },
  "language_info": {
   "codemirror_mode": {
    "name": "ipython",
    "version": 3
   },
   "file_extension": ".py",
   "mimetype": "text/x-python",
   "name": "python",
   "nbconvert_exporter": "python",
   "pygments_lexer": "ipython3",
   "version": "3.9.7"
  }
 },
 "nbformat": 4,
 "nbformat_minor": 5
}
